{
 "cells": [
  {
   "cell_type": "code",
   "execution_count": 2,
   "metadata": {},
   "outputs": [
    {
     "name": "stdout",
     "output_type": "stream",
     "text": [
      "Current pose: x=241.91065979003906, y=-18.13955307006836, z=84.74128723144531, r=0.0, j1=-4.288270950317383, j2=18.32561492919922, j3=17.176786422729492, j4=4.288270950317383\n"
     ]
    }
   ],
   "source": [
    "import serial.tools.list_ports\n",
    "import pydobot\n",
    "\n",
    "# Get the port name of the Dobot arm\n",
    "available_ports = list(serial.tools.list_ports.comports())\n",
    "port = available_ports[1].device\n",
    "\n",
    "# Create a Dobot instance and connect to the arm\n",
    "device = pydobot.Dobot(port=port)\n",
    "\n",
    "(x, y, z, r, j1, j2, j3, j4) = device.pose()\n",
    "print(f\"Current pose: x={x}, y={y}, z={z}, r={r}, j1={j1}, j2={j2}, j3={j3}, j4={j4}\")\n",
    "\n",
    "device.move_to(x=200, y=0, z=0, r=0)\n",
    "device.move_to(x=300, y=0, z=0, r=0, wait=True)  # we wait until this movement is done before continuing\n",
    "\n",
    "device.close()\n"
   ]
  },
  {
   "cell_type": "code",
   "execution_count": 66,
   "metadata": {},
   "outputs": [],
   "source": [
    "import serial.tools.list_ports\n",
    "import pydobot\n",
    "\n",
    "# Get the port name of the Dobot arm\n",
    "available_ports = list(serial.tools.list_ports.comports())\n",
    "port = available_ports[1].device\n",
    "\n",
    "# Create a Dobot instance and connect to the arm\n",
    "device = pydobot.Dobot(port=port)\n",
    "\n",
    "#pose = device.pose()\n",
    "device.move_to(289.6848449707031, -87.65595245361328, -62, 0)\n",
    "\n",
    "#print(pose)"
   ]
  }
 ],
 "metadata": {
  "kernelspec": {
   "display_name": "base",
   "language": "python",
   "name": "python3"
  },
  "language_info": {
   "codemirror_mode": {
    "name": "ipython",
    "version": 3
   },
   "file_extension": ".py",
   "mimetype": "text/x-python",
   "name": "python",
   "nbconvert_exporter": "python",
   "pygments_lexer": "ipython3",
   "version": "3.8.5"
  },
  "orig_nbformat": 4
 },
 "nbformat": 4,
 "nbformat_minor": 2
}
