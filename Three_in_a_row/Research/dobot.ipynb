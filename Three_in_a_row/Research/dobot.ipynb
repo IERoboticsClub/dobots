{
 "cells": [
  {
   "cell_type": "code",
   "execution_count": 58,
   "metadata": {},
   "outputs": [
    {
     "name": "stdout",
     "output_type": "stream",
     "text": [
      "(178.22474670410156, -165.20816040039062, -65.549072265625, -42.82944869995117, -42.82944869995117, 60.72251510620117, 63.512306213378906, 0.0)\n"
     ]
    }
   ],
   "source": [
    "from pydobot import Dobot\n",
    "import serial.tools.list_ports\n",
    "\n",
    "\n",
    "available_ports = list(serial.tools.list_ports.comports())\n",
    "port = available_ports[1].device\n",
    "\n",
    "# Create a Dobot instance and connect to the arm\n",
    "dobot = Dobot(port=port)\n",
    "\n",
    "pose = dobot.pose()\n",
    "print(pose)\n"
   ]
  },
  {
   "attachments": {},
   "cell_type": "markdown",
   "metadata": {},
   "source": [
    "(281.34552001953125, 0.0, -40.485504150390625, 0.0, 0.0, 61.50823974609375, 45.520606994628906, 0.0)"
   ]
  },
  {
   "cell_type": "code",
   "execution_count": 38,
   "metadata": {},
   "outputs": [],
   "source": [
    "from pydobot import Dobot\n",
    "import serial.tools.list_ports\n",
    "\n",
    "\n",
    "available_ports = list(serial.tools.list_ports.comports())\n",
    "port = available_ports[1].device\n",
    "\n",
    "# Create a Dobot instance and connect to the arm\n",
    "dobot = Dobot(port=port)\n",
    "\n",
    "\n",
    "dobot.move_to(267.4843444824219, -50.12957000732422, -62.11185073852539, 0, True)\n",
    "dobot.suck(True)\n",
    "dobot.move_to(249.36878967285156, -44.35346984863281, 111.7765884399414, 0, False)\n",
    "dobot.suck(False)\n"
   ]
  },
  {
   "cell_type": "code",
   "execution_count": 14,
   "metadata": {},
   "outputs": [
    {
     "name": "stdout",
     "output_type": "stream",
     "text": [
      "(168.64236450195312, 184.82005310058594, 63.934425354003906, 38.885292053222656, 47.62055206298828, 24.43553924560547, 23.65187644958496, -8.735259056091309)\n"
     ]
    }
   ],
   "source": [
    "from pydobot import Dobot\n",
    "import serial.tools.list_ports\n",
    "\n",
    "\n",
    "# Create a Dobot instance and connect to the arm\n",
    "available_ports = list(serial.tools.list_ports.comports())\n",
    "port = available_ports[1].device\n",
    "\n",
    "# Create a Dobot instance and connect to the arm\n",
    "dobot = Dobot(port=port)\n",
    "\n",
    "\n",
    "pose = dobot.pose()\n",
    "print(pose)\n",
    "\n",
    "x = [263.4301452636719, 40.47639846801758, -59.82172775268555, 0]\n",
    "\n",
    "#(x, y, z, r, j1, j2, j3, j4) = device.pose()\n",
    "#print(f\"Current pose: x={x}, y={y}, z={z}, r={r}, j1={j1}, j2={j2}, j3={j3}, j4={j4}\")\n",
    "#dobot.wait(100)\n",
    "#dobot.suck(True)\n",
    "#dobot.suck(False)\n",
    "dobot.move_to(x[0], x[1], x[2], x[3])\n",
    "\n",
    "\n",
    "\n",
    "\n",
    "dobot.close()"
   ]
  },
  {
   "cell_type": "code",
   "execution_count": 2,
   "metadata": {},
   "outputs": [
    {
     "name": "stdout",
     "output_type": "stream",
     "text": [
      "(241.91065979003906, -18.139551162719727, 84.74128723144531, 0.0, -4.288270473480225, 18.32561492919922, 17.176786422729492, 4.288270473480225)\n"
     ]
    }
   ],
   "source": [
    "from pydobot import Dobot\n",
    "import serial.tools.list_ports\n",
    "\n",
    "\n",
    "# Create a Dobot instance and connect to the arm\n",
    "# Get the port name of the Dobot arm\n",
    "available_ports = list(serial.tools.list_ports.comports())\n",
    "port = available_ports[1].device\n",
    "\n",
    "# Create a Dobot instance and connect to the arm\n",
    "dobot = Dobot(port=port)\n",
    "\n",
    "pose = dobot.pose()\n",
    "print(pose)\n",
    "\n",
    "#(x, y, z, r, j1, j2, j3, j4) = device.pose()\n",
    "#print(f\"Current pose: x={x}, y={y}, z={z}, r={r}, j1={j1}, j2={j2}, j3={j3}, j4={j4}\")\n",
    "#dobot.wait(100)\n",
    "#dobot.suck(True)\n",
    "#dobot.suck(False)\n",
    "dobot.move_to(263.4301452636719, 40.47639846801758, -59.82172775268555, 0)\n",
    "dobot.suck(True)\n",
    "\n",
    "\n",
    "dobot.move_to(241.91065979003906, -18.139551162719727, 84.74128723144531, r=0, wait=False)\n",
    "\n",
    "dobot.move_to(261.77557373046875, -16.348268508911133, -59.82172775268555, r=0, wait=False)  \n",
    "dobot.suck(False)\n",
    "\n",
    "dobot.move_to(241.91065979003906, -18.139551162719727, 84.74128723144531, r=0, wait=False)\n",
    "\n",
    "\n",
    "dobot.close()\n",
    "\n"
   ]
  },
  {
   "cell_type": "code",
   "execution_count": 4,
   "metadata": {},
   "outputs": [
    {
     "ename": "SerialException",
     "evalue": "[Errno 2] could not open port /dev/tty.usbserial-14220: [Errno 2] No such file or directory: '/dev/tty.usbserial-14220'",
     "output_type": "error",
     "traceback": [
      "\u001b[0;31m---------------------------------------------------------------------------\u001b[0m",
      "\u001b[0;31mFileNotFoundError\u001b[0m                         Traceback (most recent call last)",
      "\u001b[0;32m/opt/anaconda3/lib/python3.8/site-packages/serial/serialposix.py\u001b[0m in \u001b[0;36mopen\u001b[0;34m(self)\u001b[0m\n\u001b[1;32m    264\u001b[0m         \u001b[0;32mtry\u001b[0m\u001b[0;34m:\u001b[0m\u001b[0;34m\u001b[0m\u001b[0;34m\u001b[0m\u001b[0m\n\u001b[0;32m--> 265\u001b[0;31m             \u001b[0mself\u001b[0m\u001b[0;34m.\u001b[0m\u001b[0mfd\u001b[0m \u001b[0;34m=\u001b[0m \u001b[0mos\u001b[0m\u001b[0;34m.\u001b[0m\u001b[0mopen\u001b[0m\u001b[0;34m(\u001b[0m\u001b[0mself\u001b[0m\u001b[0;34m.\u001b[0m\u001b[0mportstr\u001b[0m\u001b[0;34m,\u001b[0m \u001b[0mos\u001b[0m\u001b[0;34m.\u001b[0m\u001b[0mO_RDWR\u001b[0m \u001b[0;34m|\u001b[0m \u001b[0mos\u001b[0m\u001b[0;34m.\u001b[0m\u001b[0mO_NOCTTY\u001b[0m \u001b[0;34m|\u001b[0m \u001b[0mos\u001b[0m\u001b[0;34m.\u001b[0m\u001b[0mO_NONBLOCK\u001b[0m\u001b[0;34m)\u001b[0m\u001b[0;34m\u001b[0m\u001b[0;34m\u001b[0m\u001b[0m\n\u001b[0m\u001b[1;32m    266\u001b[0m         \u001b[0;32mexcept\u001b[0m \u001b[0mOSError\u001b[0m \u001b[0;32mas\u001b[0m \u001b[0mmsg\u001b[0m\u001b[0;34m:\u001b[0m\u001b[0;34m\u001b[0m\u001b[0;34m\u001b[0m\u001b[0m\n",
      "\u001b[0;31mFileNotFoundError\u001b[0m: [Errno 2] No such file or directory: '/dev/tty.usbserial-14220'",
      "\nDuring handling of the above exception, another exception occurred:\n",
      "\u001b[0;31mSerialException\u001b[0m                           Traceback (most recent call last)",
      "\u001b[0;32m<ipython-input-4-b44d7b839864>\u001b[0m in \u001b[0;36m<module>\u001b[0;34m\u001b[0m\n\u001b[1;32m      2\u001b[0m \u001b[0;34m\u001b[0m\u001b[0m\n\u001b[1;32m      3\u001b[0m \u001b[0;31m# Create a Dobot instance and connect to the arm\u001b[0m\u001b[0;34m\u001b[0m\u001b[0;34m\u001b[0m\u001b[0;34m\u001b[0m\u001b[0m\n\u001b[0;32m----> 4\u001b[0;31m \u001b[0mdobot\u001b[0m \u001b[0;34m=\u001b[0m \u001b[0mDobot\u001b[0m\u001b[0;34m(\u001b[0m\u001b[0mport\u001b[0m\u001b[0;34m=\u001b[0m\u001b[0;34m'/dev/tty.usbserial-14220'\u001b[0m\u001b[0;34m)\u001b[0m  \u001b[0;31m# Replace with your port name\u001b[0m\u001b[0;34m\u001b[0m\u001b[0;34m\u001b[0m\u001b[0m\n\u001b[0m\u001b[1;32m      5\u001b[0m \u001b[0;34m\u001b[0m\u001b[0m\n\u001b[1;32m      6\u001b[0m \u001b[0;34m\u001b[0m\u001b[0m\n",
      "\u001b[0;32m/opt/anaconda3/lib/python3.8/site-packages/pydobot/dobot.py\u001b[0m in \u001b[0;36m__init__\u001b[0;34m(self, port, verbose)\u001b[0m\n\u001b[1;32m     19\u001b[0m         \u001b[0mself\u001b[0m\u001b[0;34m.\u001b[0m\u001b[0mverbose\u001b[0m \u001b[0;34m=\u001b[0m \u001b[0mverbose\u001b[0m\u001b[0;34m\u001b[0m\u001b[0;34m\u001b[0m\u001b[0m\n\u001b[1;32m     20\u001b[0m         \u001b[0mself\u001b[0m\u001b[0;34m.\u001b[0m\u001b[0mlock\u001b[0m \u001b[0;34m=\u001b[0m \u001b[0mthreading\u001b[0m\u001b[0;34m.\u001b[0m\u001b[0mLock\u001b[0m\u001b[0;34m(\u001b[0m\u001b[0;34m)\u001b[0m\u001b[0;34m\u001b[0m\u001b[0;34m\u001b[0m\u001b[0m\n\u001b[0;32m---> 21\u001b[0;31m         self.ser = serial.Serial(port,\n\u001b[0m\u001b[1;32m     22\u001b[0m                                  \u001b[0mbaudrate\u001b[0m\u001b[0;34m=\u001b[0m\u001b[0;36m115200\u001b[0m\u001b[0;34m,\u001b[0m\u001b[0;34m\u001b[0m\u001b[0;34m\u001b[0m\u001b[0m\n\u001b[1;32m     23\u001b[0m                                  \u001b[0mparity\u001b[0m\u001b[0;34m=\u001b[0m\u001b[0mserial\u001b[0m\u001b[0;34m.\u001b[0m\u001b[0mPARITY_NONE\u001b[0m\u001b[0;34m,\u001b[0m\u001b[0;34m\u001b[0m\u001b[0;34m\u001b[0m\u001b[0m\n",
      "\u001b[0;32m/opt/anaconda3/lib/python3.8/site-packages/serial/serialutil.py\u001b[0m in \u001b[0;36m__init__\u001b[0;34m(self, port, baudrate, bytesize, parity, stopbits, timeout, xonxoff, rtscts, write_timeout, dsrdtr, inter_byte_timeout, exclusive, **kwargs)\u001b[0m\n\u001b[1;32m    238\u001b[0m \u001b[0;34m\u001b[0m\u001b[0m\n\u001b[1;32m    239\u001b[0m         \u001b[0;32mif\u001b[0m \u001b[0mport\u001b[0m \u001b[0;32mis\u001b[0m \u001b[0;32mnot\u001b[0m \u001b[0;32mNone\u001b[0m\u001b[0;34m:\u001b[0m\u001b[0;34m\u001b[0m\u001b[0;34m\u001b[0m\u001b[0m\n\u001b[0;32m--> 240\u001b[0;31m             \u001b[0mself\u001b[0m\u001b[0;34m.\u001b[0m\u001b[0mopen\u001b[0m\u001b[0;34m(\u001b[0m\u001b[0;34m)\u001b[0m\u001b[0;34m\u001b[0m\u001b[0;34m\u001b[0m\u001b[0m\n\u001b[0m\u001b[1;32m    241\u001b[0m \u001b[0;34m\u001b[0m\u001b[0m\n\u001b[1;32m    242\u001b[0m     \u001b[0;31m#  -  -  -  -  -  -  -  -  -  -  -  -  -  -  -  -  -  -  -  -  -  -  -  -\u001b[0m\u001b[0;34m\u001b[0m\u001b[0;34m\u001b[0m\u001b[0;34m\u001b[0m\u001b[0m\n",
      "\u001b[0;32m/opt/anaconda3/lib/python3.8/site-packages/serial/serialposix.py\u001b[0m in \u001b[0;36mopen\u001b[0;34m(self)\u001b[0m\n\u001b[1;32m    266\u001b[0m         \u001b[0;32mexcept\u001b[0m \u001b[0mOSError\u001b[0m \u001b[0;32mas\u001b[0m \u001b[0mmsg\u001b[0m\u001b[0;34m:\u001b[0m\u001b[0;34m\u001b[0m\u001b[0;34m\u001b[0m\u001b[0m\n\u001b[1;32m    267\u001b[0m             \u001b[0mself\u001b[0m\u001b[0;34m.\u001b[0m\u001b[0mfd\u001b[0m \u001b[0;34m=\u001b[0m \u001b[0;32mNone\u001b[0m\u001b[0;34m\u001b[0m\u001b[0;34m\u001b[0m\u001b[0m\n\u001b[0;32m--> 268\u001b[0;31m             \u001b[0;32mraise\u001b[0m \u001b[0mSerialException\u001b[0m\u001b[0;34m(\u001b[0m\u001b[0mmsg\u001b[0m\u001b[0;34m.\u001b[0m\u001b[0merrno\u001b[0m\u001b[0;34m,\u001b[0m \u001b[0;34m\"could not open port {}: {}\"\u001b[0m\u001b[0;34m.\u001b[0m\u001b[0mformat\u001b[0m\u001b[0;34m(\u001b[0m\u001b[0mself\u001b[0m\u001b[0;34m.\u001b[0m\u001b[0m_port\u001b[0m\u001b[0;34m,\u001b[0m \u001b[0mmsg\u001b[0m\u001b[0;34m)\u001b[0m\u001b[0;34m)\u001b[0m\u001b[0;34m\u001b[0m\u001b[0;34m\u001b[0m\u001b[0m\n\u001b[0m\u001b[1;32m    269\u001b[0m         \u001b[0;31m#~ fcntl.fcntl(self.fd, fcntl.F_SETFL, 0)  # set blocking\u001b[0m\u001b[0;34m\u001b[0m\u001b[0;34m\u001b[0m\u001b[0;34m\u001b[0m\u001b[0m\n\u001b[1;32m    270\u001b[0m \u001b[0;34m\u001b[0m\u001b[0m\n",
      "\u001b[0;31mSerialException\u001b[0m: [Errno 2] could not open port /dev/tty.usbserial-14220: [Errno 2] No such file or directory: '/dev/tty.usbserial-14220'"
     ]
    }
   ],
   "source": [
    "from pydobot import Dobot\n",
    "\n",
    "# Create a Dobot instance and connect to the arm\n",
    "dobot = Dobot(port='/dev/tty.usbserial-14220')  # Replace with your port name\n",
    "\n",
    "\n",
    "pose = dobot.pose()\n",
    "print(pose)\n",
    "\n",
    "#(x, y, z, r, j1, j2, j3, j4) = device.pose()\n",
    "#print(f\"Current pose: x={x}, y={y}, z={z}, r={r}, j1={j1}, j2={j2}, j3={j3}, j4={j4}\")\n",
    "#dobot.wait(100)\n",
    "#dobot.suck(True)\n",
    "#dobot.suck(False)\n",
    "\n",
    "dobot.move_to(261.77557373046875, -16.348268508911133, -59.82172775268555, r=0, wait=False)  \n",
    "\n",
    "dobot.suck(True)\n",
    "\n",
    "dobot.move_to(241.91065979003906, -18.139551162719727, 84.74128723144531, r=0, wait=False)\n",
    "\n",
    "dobot.move_to(263.4301452636719, 40.47639846801758, -59.82172775268555, r=0, wait=False)\n",
    "\n",
    "dobot.suck(False)\n",
    "\n",
    "dobot.move_to(241.91065979003906, -18.139551162719727, 84.74128723144531, r=0, wait=False)\n",
    "\n",
    "\n",
    "dobot.close()"
   ]
  },
  {
   "cell_type": "code",
   "execution_count": null,
   "metadata": {},
   "outputs": [],
   "source": []
  },
  {
   "cell_type": "code",
   "execution_count": 4,
   "metadata": {},
   "outputs": [
    {
     "name": "stdout",
     "output_type": "stream",
     "text": [
      "['Dobot', '__builtins__', '__cached__', '__doc__', '__file__', '__loader__', '__name__', '__package__', '__path__', '__spec__', 'dobot', 'enums', 'message']\n"
     ]
    }
   ],
   "source": [
    "import pydobot\n",
    "\n",
    "# use the dir() function to see the methods of the pydobot library\n",
    "print(dir(pydobot))\n"
   ]
  },
  {
   "cell_type": "code",
   "execution_count": 54,
   "metadata": {},
   "outputs": [],
   "source": [
    "import cv2\n",
    "import numpy as np\n",
    "from collections import defaultdict\n",
    "import random\n",
    "import time\n",
    "from PIL import Image\n",
    "import serial.tools.list_ports\n",
    "import pydobot\n",
    "\n",
    "# Get the port name of the Dobot arm\n",
    "available_ports = list(serial.tools.list_ports.comports())\n",
    "port = available_ports[1].device\n",
    "\n",
    "# Create a Dobot instance and connect to the arm\n",
    "dobot = pydobot.Dobot(port=port)\n",
    "\n",
    "# Calibration coordinates for the board\n",
    "\n",
    "start_coordinates = [242.37692260742188, 11.542285919189453, -65.57083892822266, 0]\n",
    "\n",
    "calibration_celda_1 = [167.32986450195312, -272.492431640625, -59.79207229614258, 0]\n",
    "calibration_celda_2 = [124.93033599853516, -227.24774169921875, -62.601585388183594, 0]\n",
    "calibration_celda_3 = [77.44032287597656, -181.2471923828125, -63.24043273925781, 0]\n",
    "calibration_celda_4 = [216.61453247070312, -226.2322998046875, -59.78167724609375, 0]\n",
    "calibration_celda_5 = [173.50437927246094, -181.20803833007812, -61.63672637939453, 0]\n",
    "calibration_celda_6 = [129.7561798095703, -138.81768798828125, -62.505889892578125, 0]\n",
    "calibration_celda_7 = [265.1841125488281, -179.68240356445312, -59.60185623168945, 0]\n",
    "calibration_celda_8 = [220.31028747558594, -136.8333282470703, -61.52882385253906, 0]\n",
    "calibration_celda_9 = [175.16598510742188, -91.30010986328125, -62.3995361328125, 0]\n",
    "\n",
    "calibration_token_1 = [235.37603759765625, -20.93382453918457, -63.679481506347656, 0]\n",
    "calibration_token_2 = [266.7563171386719, -51.0143928527832, -63.26238250732422, 0]\n",
    "calibration_token_3 = [296.2026672363281, -80.15022277832031, -63.648048400878906, 0]\n",
    "\n",
    "calibration_home = [210.09783935546875, -3.7860727310180664, 116.83699035644531, 0]\n",
    "calibration_middle = [165.581787109375, -171.8178253173828, 116.74826049804688, 0]\n",
    "\n",
    "diffs = []\n",
    "for celda in [calibration_celda_1, calibration_celda_2, calibration_celda_3, calibration_celda_4, calibration_celda_5, calibration_celda_6, calibration_celda_7, calibration_celda_8, calibration_celda_9, calibration_token_1, calibration_token_2, calibration_token_3, calibration_home, calibration_middle]:\n",
    "    diff = []\n",
    "    for i in range(3):\n",
    "        diff.append(celda[i] - start_coordinates[i])\n",
    "    diffs.append(diff)\n",
    "\n",
    "# Here you input the coordinates of the start point\n",
    "start = [178.20541381835938, -164.27415466308594, -66.08553314208984, 0]\n",
    "\n",
    "# Create new variables for each new cell\n",
    "celda_1 = [start[0]+diffs[0][0], start[1]+diffs[0][1], start[2]+diffs[0][2], 0]\n",
    "celda_2 = [start[0]+diffs[1][0], start[1]+diffs[1][1], start[2]+diffs[1][2], 0]\n",
    "celda_3 = [start[0]+diffs[2][0], start[1]+diffs[2][1], start[2]+diffs[2][2], 0]\n",
    "celda_4 = [start[0]+diffs[3][0], start[1]+diffs[3][1], start[2]+diffs[3][2], 0]\n",
    "celda_5 = [start[0]+diffs[4][0], start[1]+diffs[4][1], start[2]+diffs[4][2], 0]\n",
    "celda_6 = [start[0]+diffs[5][0], start[1]+diffs[5][1], start[2]+diffs[5][2], 0]\n",
    "celda_7 = [start[0]+diffs[6][0], start[1]+diffs[6][1], start[2]+diffs[6][2], 0]\n",
    "celda_8 = [start[0]+diffs[7][0], start[1]+diffs[7][1], start[2]+diffs[7][2], 0]\n",
    "celda_9 = [start[0]+diffs[8][0], start[1]+diffs[8][1], start[2]+diffs[8][2], 0]\n",
    "\n",
    "token_1 = [start[0]+diffs[9][0], start[1]+diffs[9][1], start[2]+diffs[9][2], 0]\n",
    "token_2 = [start[0]+diffs[10][0], start[1]+diffs[10][1], start[2]+diffs[10][2], 0]\n",
    "token_3 = [start[0]+diffs[11][0], start[1]+diffs[11][1], start[2]+diffs[11][2], 0]\n",
    "\n",
    "home = [start[0]+diffs[12][0], start[1]+diffs[12][1], start[2]+diffs[12][2], 0]\n",
    "middle = [start[0]+diffs[13][0], start[1]+diffs[13][1], start[2]+diffs[13][2], 0]\n",
    "\n"
   ]
  },
  {
   "cell_type": "code",
   "execution_count": 44,
   "metadata": {},
   "outputs": [
    {
     "data": {
      "text/plain": [
       "[[-75.04705810546875, -284.03471755981445, 5.778766632080078],\n",
       " [-117.44658660888672, -238.7900276184082, 2.9692535400390625],\n",
       " [-164.9365997314453, -192.78947830200195, 2.3304061889648438],\n",
       " [-25.76239013671875, -237.77458572387695, 5.789161682128906],\n",
       " [-68.87254333496094, -192.75032424926758, 3.934112548828125],\n",
       " [-112.62074279785156, -150.3599739074707, 3.0649490356445312],\n",
       " [22.80718994140625, -191.22468948364258, 5.968982696533203],\n",
       " [-22.066635131835938, -148.37561416625977, 4.042015075683594],\n",
       " [-67.2109375, -102.8423957824707, 3.1713027954101562],\n",
       " [-7.000885009765625, -32.47611045837402, 1.891357421875],\n",
       " [24.37939453125, -62.556678771972656, 2.3084564208984375],\n",
       " [53.82574462890625, -91.69250869750977, 1.92279052734375],\n",
       " [-32.279083251953125, -15.32835865020752, 182.40782928466797],\n",
       " [-76.79513549804688, -183.36011123657227, 182.31909942626953]]"
      ]
     },
     "execution_count": 44,
     "metadata": {},
     "output_type": "execute_result"
    }
   ],
   "source": [
    "diffs"
   ]
  },
  {
   "cell_type": "code",
   "execution_count": 55,
   "metadata": {},
   "outputs": [
    {
     "data": {
      "text/plain": [
       "[232.03115844726562, -255.9666633605957, -64.1627426147461, 0]"
      ]
     },
     "execution_count": 55,
     "metadata": {},
     "output_type": "execute_result"
    }
   ],
   "source": [
    "token_3"
   ]
  },
  {
   "cell_type": "code",
   "execution_count": null,
   "metadata": {},
   "outputs": [],
   "source": [
    "152.0821533203125, -265.7721862792969, -60.30292892456055"
   ]
  },
  {
   "cell_type": "code",
   "execution_count": 42,
   "metadata": {},
   "outputs": [],
   "source": [
    "dobot.move_to(home[0], home[1], home[2], home[3])"
   ]
  },
  {
   "cell_type": "code",
   "execution_count": 41,
   "metadata": {},
   "outputs": [],
   "source": [
    "dobot.move_to(token_2[0], token_2[1], token_2[2], token_2[3])"
   ]
  },
  {
   "cell_type": "code",
   "execution_count": 43,
   "metadata": {},
   "outputs": [],
   "source": [
    "dobot.move_to(token_3[0], token_3[1], token_3[2], token_3[3])"
   ]
  }
 ],
 "metadata": {
  "kernelspec": {
   "display_name": "base",
   "language": "python",
   "name": "python3"
  },
  "language_info": {
   "codemirror_mode": {
    "name": "ipython",
    "version": 3
   },
   "file_extension": ".py",
   "mimetype": "text/x-python",
   "name": "python",
   "nbconvert_exporter": "python",
   "pygments_lexer": "ipython3",
   "version": "3.8.5"
  },
  "orig_nbformat": 4
 },
 "nbformat": 4,
 "nbformat_minor": 2
}
