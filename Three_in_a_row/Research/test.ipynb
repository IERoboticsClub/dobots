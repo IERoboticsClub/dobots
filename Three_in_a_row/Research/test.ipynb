{
 "cells": [
  {
   "cell_type": "code",
   "execution_count": 1,
   "metadata": {},
   "outputs": [
    {
     "name": "stderr",
     "output_type": "stream",
     "text": [
      "<ipython-input-1-5f7548e93fe1>:39: DeprecationWarning: `np.int` is a deprecated alias for the builtin `int`. To silence this warning, use `int` by itself. Doing this will not modify any behavior and is safe. When replacing `np.int`, you may wish to use e.g. `np.int64` or `np.int32` to specify the precision. If you wish to review your current use, check the release note link for additional information.\n",
      "Deprecated in NumPy 1.20; for more details and guidance: https://numpy.org/devdocs/release/1.20.0-notes.html#deprecations\n",
      "  board = np.zeros((3, 3), dtype=np.int)\n"
     ]
    },
    {
     "name": "stdout",
     "output_type": "stream",
     "text": [
      "[[1 2 1]\n",
      " [2 1 2]\n",
      " [1 2 0]]\n"
     ]
    }
   ],
   "source": [
    "import cv2\n",
    "import numpy as np\n",
    "\n",
    "# Load the image\n",
    "img = cv2.imread('squares.jpg')\n",
    "\n",
    "# Convert the image to grayscale\n",
    "gray = cv2.cvtColor(img, cv2.COLOR_BGR2GRAY)\n",
    "\n",
    "# Adjust the Canny edge detection thresholds\n",
    "low_threshold = 50\n",
    "high_threshold = 150\n",
    "edges = cv2.Canny(gray, low_threshold, high_threshold, apertureSize=3)\n",
    "\n",
    "# Find contours in the image\n",
    "contours, hierarchy = cv2.findContours(edges, cv2.RETR_EXTERNAL, cv2.CHAIN_APPROX_SIMPLE)\n",
    "\n",
    "# Initialize an empty list to store the coordinates of the squares\n",
    "squares = []\n",
    "\n",
    "# Loop through the contours\n",
    "for cnt in contours:\n",
    "        # Approximate the contour with a polygon\n",
    "        approx = cv2.approxPolyDP(cnt, 0.01 * cv2.arcLength(cnt, True), True)\n",
    "        # If the polygon has four vertices and is convex, it could be a rectangle\n",
    "        if len(approx) == 4 and cv2.isContourConvex(approx):\n",
    "            # Calculate the bounding box of the polygon\n",
    "            x, y, w, h = cv2.boundingRect(approx)\n",
    "            # Draw a green rectangle around the rectangle\n",
    "            cv2.rectangle(img, (x, y), (x + w, y + h), (0, 255, 0), 2)\n",
    "\n",
    "            # Add the coordinates of the rectangle to the list\n",
    "            squares.append((x, y, x+w, y+h))\n",
    "\n",
    "# Sort the squares from left to right and top to bottom\n",
    "squares = sorted(squares, key=lambda x: (x[1], x[0]))\n",
    "\n",
    "# Initialize a 3x3 grid of zeros to represent the tic tac toe board\n",
    "board = np.zeros((3, 3), dtype=np.int)\n",
    "\n",
    "# Loop through the squares and fill in the corresponding cell of the grid\n",
    "for i, square in enumerate(squares):\n",
    "    row = i // 3\n",
    "    col = i % 3\n",
    "    x1, y1, x2, y2 = square\n",
    "    # Draw a green rectangle around the square\n",
    "    cv2.rectangle(img, (x1, y1), (x2, y2), (0, 255, 0), 2)\n",
    "    # Add the square to the grid\n",
    "    board[row, col] = 1 if i % 2 == 0 else 2\n",
    "\n",
    "# Print the grid\n",
    "print(board)\n",
    "\n",
    "# Display the image\n",
    "cv2.imshow('Squares', img)\n",
    "cv2.waitKey(0)\n",
    "cv2.destroyAllWindows()\n",
    "\n",
    "\n"
   ]
  }
 ],
 "metadata": {
  "kernelspec": {
   "display_name": "base",
   "language": "python",
   "name": "python3"
  },
  "language_info": {
   "codemirror_mode": {
    "name": "ipython",
    "version": 3
   },
   "file_extension": ".py",
   "mimetype": "text/x-python",
   "name": "python",
   "nbconvert_exporter": "python",
   "pygments_lexer": "ipython3",
   "version": "3.8.5"
  },
  "orig_nbformat": 4
 },
 "nbformat": 4,
 "nbformat_minor": 2
}
