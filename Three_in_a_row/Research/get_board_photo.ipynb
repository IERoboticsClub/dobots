{
 "cells": [
  {
   "cell_type": "code",
   "execution_count": 8,
   "metadata": {},
   "outputs": [],
   "source": [
    "import cv2\n",
    "import numpy as np\n",
    "\n",
    "# Define a list to store the selected points\n",
    "points = []\n",
    "\n",
    "# Define the mouse callback function\n",
    "def mouse_callback(event, x, y, flags, param):\n",
    "    if event == cv2.EVENT_LBUTTONDOWN:\n",
    "        points.append((x, y))\n",
    "        if len(points) == 4:\n",
    "            cv2.destroyWindow('frame')\n",
    "\n",
    "# Load the image\n",
    "img = cv2.imread('tic_tac_toe_board.jpg')\n",
    "\n",
    "# Display the image in a window\n",
    "cv2.imshow('frame', img)\n",
    "\n",
    "# Set the mouse callback function on the window\n",
    "cv2.setMouseCallback('frame', mouse_callback)\n",
    "\n",
    "# Wait for four mouse clicks\n",
    "while True:\n",
    "    if cv2.waitKey(1) & 0xFF == ord('q'):\n",
    "        break\n",
    "    if len(points) == 4:\n",
    "        break\n",
    "\n",
    "# Get the coordinates of the selected points\n",
    "src_points = np.float32(points)\n",
    "\n",
    "# Define the destination points as a numpy array\n",
    "dst_points = np.float32([[0, 0], [300, 0], [0, 300], [300, 300]])\n",
    "\n",
    "# Release all windows\n",
    "cv2.destroyAllWindows()\n",
    "\n"
   ]
  },
  {
   "cell_type": "code",
   "execution_count": 9,
   "metadata": {},
   "outputs": [
    {
     "data": {
      "text/plain": [
       "[(463, 983), (1129, 996), (341, 1456), (1265, 1460)]"
      ]
     },
     "execution_count": 9,
     "metadata": {},
     "output_type": "execute_result"
    }
   ],
   "source": [
    "points"
   ]
  }
 ],
 "metadata": {
  "kernelspec": {
   "display_name": "base",
   "language": "python",
   "name": "python3"
  },
  "language_info": {
   "codemirror_mode": {
    "name": "ipython",
    "version": 3
   },
   "file_extension": ".py",
   "mimetype": "text/x-python",
   "name": "python",
   "nbconvert_exporter": "python",
   "pygments_lexer": "ipython3",
   "version": "3.8.5"
  },
  "orig_nbformat": 4
 },
 "nbformat": 4,
 "nbformat_minor": 2
}
