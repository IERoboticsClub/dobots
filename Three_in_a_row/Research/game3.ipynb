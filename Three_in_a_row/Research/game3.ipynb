{
 "cells": [
  {
   "cell_type": "code",
   "execution_count": 9,
   "metadata": {},
   "outputs": [
    {
     "data": {
      "text/plain": [
       "(2, 2)"
      ]
     },
     "execution_count": 9,
     "metadata": {},
     "output_type": "execute_result"
    }
   ],
   "source": [
    "\n",
    "def check_for_winning_mov2(board, token):\n",
    "    \"\"\"\n",
    "    Checks if there are two tokens in a row, column, or diagonal with an empty cell\n",
    "    and returns the position of the third token in the winning sequence.\n",
    "    \n",
    "    Args:\n",
    "        board (list): A 3x3 list representing the Tic Tac Toe board, where 0 is an empty cell,\n",
    "                      1 is the opponent's token, and 2 is the player's token.\n",
    "        token (int): The token (1 or 2) to check for winning moves.\n",
    "    \n",
    "    Returns:\n",
    "        tuple: A tuple containing the row and column (zero-indexed) of the third\n",
    "        token in the winning sequence, or None if there are no winning moves available.\n",
    "    \"\"\"\n",
    "    # Check rows\n",
    "    for row in range(3):\n",
    "        if board[row].count(token) == 2 and board[row].count(0) == 1:\n",
    "            col = board[row].index(0)\n",
    "            return (row, col) if token != 1 else (row, col, 1)\n",
    "    \n",
    "    # Check columns\n",
    "    for col in range(3):\n",
    "        if [board[row][col] for row in range(3)].count(token) == 2 and \\\n",
    "           [board[row][col] for row in range(3)].count(0) == 1:\n",
    "            row = [board[row][col] for row in range(3)].index(0)\n",
    "            return (row, col) if token != 1 else (row, col, 1)\n",
    "    \n",
    "    # Check diagonals\n",
    "    if board[0][0] == board[1][1] == token and board[2][2] == 0:\n",
    "        return (2, 2) if token != 1 else (2, 2, 1)\n",
    "    elif board[0][2] == board[1][1] == token and board[2][0] == 0:\n",
    "        return (2, 0) if token != 1 else (2, 0, 1)\n",
    "    elif board[1][1] == board[2][2] == token and board[0][0] == 0:\n",
    "        return (0, 0) if token != 1 else (0, 0, 1)\n",
    "    elif board[1][1] == board[0][2] == token and board[2][0] == 0:\n",
    "        return (2, 0) if token != 1 else (2, 0, 1)\n",
    "    \n",
    "    # No winning moves available\n",
    "    return None\n",
    "\n",
    "\n",
    "# example Tic Tac Toe board\n",
    "board = [\n",
    "    [0, 0, 2],\n",
    "    [1, 2, 2],\n",
    "    [0, 0, 0]\n",
    "]\n",
    "\n",
    "check_for_winning_mov2(board, 2)"
   ]
  }
 ],
 "metadata": {
  "kernelspec": {
   "display_name": "base",
   "language": "python",
   "name": "python3"
  },
  "language_info": {
   "codemirror_mode": {
    "name": "ipython",
    "version": 3
   },
   "file_extension": ".py",
   "mimetype": "text/x-python",
   "name": "python",
   "nbconvert_exporter": "python",
   "pygments_lexer": "ipython3",
   "version": "3.8.5"
  },
  "orig_nbformat": 4
 },
 "nbformat": 4,
 "nbformat_minor": 2
}
