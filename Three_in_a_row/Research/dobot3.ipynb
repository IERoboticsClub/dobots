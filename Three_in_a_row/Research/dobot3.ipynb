{
 "cells": [
  {
   "cell_type": "code",
   "execution_count": 10,
   "metadata": {},
   "outputs": [],
   "source": [
    "\n",
    "\n",
    "# Original coordinates\n",
    "celda_1 = [156.0071563720703, -274.9841613769531, -40, 0]\n",
    "celda_2 = [113.16597747802734, -225.4381561279297, -50, 0]\n",
    "celda_3 = [70.88225555419922, -179.51295471191406, -40, 0]\n",
    "celda_4 = [207.09628295898438, -228.65504455566406, -40, 0]\n",
    "celda_5 = [164.8048858642578, -184.17222595214844, -40, 0]\n",
    "celda_6 = [125.77976989746094, -141.8745880126953, -40, 0]\n",
    "celda_7 = [255.82183837890625, -187.6775665283203, -40, 0]\n",
    "celda_8 = [214.36099243164062, -137.71075439453125, -40, 0]\n",
    "celda_9 = [170.142333984375, -92.00703430175781, -40, 0]\n",
    "\n",
    "token_1 = [230.33840942382812, -26.72310447692871, -40, 0]\n",
    "token_2 = [262.9659423828125, -55.21843338012695, -40, 0]\n",
    "token_3 = [289.6848449707031, -87.65595245361328, -40, 0]\n",
    "\n",
    "# Coordenadas de home y middle\n",
    "\n",
    "home = [210.09783935546875, -3.7860727310180664, 116.83699035644531, 0]\n",
    "middle = [156.12217712402344, -186.42835998535156, 0, 0]\n",
    "\n",
    "# Differences between celda_1 and the other cells\n",
    "diffs = []\n",
    "for celda in [celda_2, celda_3, celda_4, celda_5, celda_6, celda_7, celda_8, celda_9, token_1, token_2, token_3, home, middle]:\n",
    "    diff = []\n",
    "    for i in range(3):\n",
    "        diff.append(celda[i] - celda_1[i])\n",
    "    diffs.append(diff)\n",
    "\n",
    "# New coordinates for celda_1\n",
    "new_celda_1 = [200, -300, -40, 0]\n",
    "\n",
    "# Create new variables for each new cell\n",
    "new_celda_2 = [new_celda_1[0]+diffs[0][0], new_celda_1[1]+diffs[0][1], new_celda_1[2]+diffs[0][2], 0]\n",
    "new_celda_3 = [new_celda_1[0]+diffs[1][0], new_celda_1[1]+diffs[1][1], new_celda_1[2]+diffs[1][2], 0]\n",
    "new_celda_4 = [new_celda_1[0]+diffs[2][0], new_celda_1[1]+diffs[2][1], new_celda_1[2]+diffs[2][2], 0]\n",
    "new_celda_5 = [new_celda_1[0]+diffs[3][0], new_celda_1[1]+diffs[3][1], new_celda_1[2]+diffs[3][2], 0]\n",
    "new_celda_6 = [new_celda_1[0]+diffs[4][0], new_celda_1[1]+diffs[4][1], new_celda_1[2]+diffs[4][2], 0]\n",
    "new_celda_7 = [new_celda_1[0]+diffs[5][0], new_celda_1[1]+diffs[5][1], new_celda_1[2]+diffs[5][2], 0]\n",
    "new_celda_8 = [new_celda_1[0]+diffs[6][0], new_celda_1[1]+diffs[6][1], new_celda_1[2]+diffs[6][2], 0]\n",
    "new_celda_9 = [new_celda_1[0]+diffs[7][0], new_celda_1[1]+diffs[7][1], new_celda_1[2]+diffs[7][2], 0]\n",
    "\n",
    "new_token_1 = [new_celda_1[0]+diffs[8][0], new_celda_1[1]+diffs[8][1], new_celda_1[2]+diffs[8][2], 0]\n",
    "new_token_2 = [new_celda_1[0]+diffs[9][0], new_celda_1[1]+diffs[9][1], new_celda_1[2]+diffs[9][2], 0]\n",
    "new_token_3 = [new_celda_1[0]+diffs[10][0], new_celda_1[1]+diffs[10][1], new_celda_1[2]+diffs[10][2], 0]\n",
    "\n",
    "new_home = [new_celda_1[0]+diffs[11][0], new_celda_1[1]+diffs[11][1], new_celda_1[2]+diffs[11][2], 0]\n",
    "new_middle = [new_celda_1[0]+diffs[12][0], new_celda_1[1]+diffs[12][1], new_celda_1[2]+diffs[12][2], 0]"
   ]
  },
  {
   "cell_type": "code",
   "execution_count": 13,
   "metadata": {},
   "outputs": [
    {
     "data": {
      "text/plain": [
       "[254.09068298339844, -28.80191135406494, 116.83699035644531, 0]"
      ]
     },
     "execution_count": 13,
     "metadata": {},
     "output_type": "execute_result"
    }
   ],
   "source": [
    "new_home"
   ]
  }
 ],
 "metadata": {
  "kernelspec": {
   "display_name": "base",
   "language": "python",
   "name": "python3"
  },
  "language_info": {
   "codemirror_mode": {
    "name": "ipython",
    "version": 3
   },
   "file_extension": ".py",
   "mimetype": "text/x-python",
   "name": "python",
   "nbconvert_exporter": "python",
   "pygments_lexer": "ipython3",
   "version": "3.8.5"
  },
  "orig_nbformat": 4
 },
 "nbformat": 4,
 "nbformat_minor": 2
}
