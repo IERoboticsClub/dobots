{
 "cells": [
  {
   "cell_type": "code",
   "execution_count": 4,
   "metadata": {},
   "outputs": [],
   "source": [
    "import cv2\n",
    "import numpy as np\n",
    "\n",
    "img = cv2.imread('tic_tac_toe_board.jpg')\n",
    "height, width = 450, 350\n",
    "src_points = np.float32([[463, 983], [1129, 996], [341, 1456], [1265, 1460] ])\n",
    "src_points2 = np.float32([[0, 0], [width, 0], [0, height], [width, height]])\n",
    "\n",
    "P = cv2.getPerspectiveTransform(src_points, src_points2)\n",
    "perspective = cv2.warpPerspective(img, P, (width, height))\n",
    "\n",
    "cv2.imshow('frame', perspective)\n",
    "\n",
    "cv2.waitKey(0)\n",
    "cv2.destroyAllWindows()"
   ]
  }
 ],
 "metadata": {
  "kernelspec": {
   "display_name": "base",
   "language": "python",
   "name": "python3"
  },
  "language_info": {
   "codemirror_mode": {
    "name": "ipython",
    "version": 3
   },
   "file_extension": ".py",
   "mimetype": "text/x-python",
   "name": "python",
   "nbconvert_exporter": "python",
   "pygments_lexer": "ipython3",
   "version": "3.8.5"
  },
  "orig_nbformat": 4
 },
 "nbformat": 4,
 "nbformat_minor": 2
}
