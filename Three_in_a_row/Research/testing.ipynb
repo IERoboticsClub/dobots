{
 "cells": [
  {
   "cell_type": "code",
   "execution_count": 3,
   "metadata": {},
   "outputs": [
    {
     "name": "stdout",
     "output_type": "stream",
     "text": [
      "(18, 51, 112, 167)\n",
      "(126, 50, 226, 165)\n",
      "(240, 49, 334, 163)\n",
      "(18, 181, 111, 303)\n",
      "(125, 181, 225, 305)\n",
      "(239, 180, 333, 305)\n",
      "(18, 310, 110, 435)\n",
      "(124, 321, 224, 437)\n",
      "(236, 313, 330, 436)\n"
     ]
    }
   ],
   "source": [
    "coordenadas = [(18, 51, 112, 167), (18, 181, 111, 303), (18, 310, 110, 435), (124, 321, 224, 437), (125, 181, 225, 305), (126, 50, 226, 165), (236, 313, 330, 436), (239, 180, 333, 305), (240, 49, 334, 163)]\n",
    "\n",
    "ordenadas = sorted(coordenadas, key=lambda c: (c[1] // 124) * 3 + (c[0] // 107))\n",
    "\n",
    "for c in ordenadas:\n",
    "    print(c)"
   ]
  }
 ],
 "metadata": {
  "kernelspec": {
   "display_name": "base",
   "language": "python",
   "name": "python3"
  },
  "language_info": {
   "codemirror_mode": {
    "name": "ipython",
    "version": 3
   },
   "file_extension": ".py",
   "mimetype": "text/x-python",
   "name": "python",
   "nbconvert_exporter": "python",
   "pygments_lexer": "ipython3",
   "version": "3.8.5"
  },
  "orig_nbformat": 4
 },
 "nbformat": 4,
 "nbformat_minor": 2
}
