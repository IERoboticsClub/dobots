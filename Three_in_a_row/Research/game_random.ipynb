{
 "cells": [
  {
   "cell_type": "code",
   "execution_count": 4,
   "metadata": {},
   "outputs": [
    {
     "name": "stdout",
     "output_type": "stream",
     "text": [
      "[[0, 0, 0], [2, 0, 0], [0, 0, 0]]\n",
      "5\n",
      "4\n"
     ]
    }
   ],
   "source": [
    "# Code that given a state of the board returns the next move randomly\n",
    "\n",
    "import random\n",
    "\n",
    "def get_square_number(row, col):\n",
    "    # row and col are 0-indexed, so add 1 to convert to 1-indexed square number\n",
    "    return row * 3 + col + 1\n",
    "\n",
    "def get_square_new_number(row, col):\n",
    "    # row and col are 0-indexed, so add 1 to convert to 1-indexed square number\n",
    "    return row * 3 + col + 1\n",
    "\n",
    "# tic tac toe board with all cells initially set to 0\n",
    "result = [[0, 0, 0], [1, 2, 0], [0, 0, 0]]\n",
    "\n",
    "# count of how many tokens you have placed on the board\n",
    "tokens_placed = 4\n",
    "\n",
    "# place three tokens on the board at random locations\n",
    "# place token on the board at random location\n",
    "if tokens_placed < 3:\n",
    "    # choose a random row and column\n",
    "    while True:\n",
    "        row = random.randint(0, 2)\n",
    "        col = random.randint(0, 2)\n",
    "        # check if the cell is empty\n",
    "        if result[row][col] == 0:\n",
    "            break\n",
    "\n",
    "    # place your token in the cell\n",
    "    result[row][col] = 2\n",
    "    \n",
    "\n",
    "    position = get_square_number(row, col)\n",
    "    print(position)\n",
    "    \n",
    "    tokens_placed += 1\n",
    "\n",
    "\n",
    "# if all tokens have been placed, move one to a different location\n",
    "else:\n",
    "    # choose a random cell with your token\n",
    "    while True:\n",
    "        row = random.randint(0, 2)\n",
    "        col = random.randint(0, 2)\n",
    "        if result[row][col] == 2:\n",
    "            break\n",
    "    \n",
    "    # choose a random empty cell\n",
    "    while True:\n",
    "        new_row = random.randint(0, 2)\n",
    "        new_col = random.randint(0, 2)\n",
    "        if result[new_row][new_col] == 0:\n",
    "            break\n",
    "    \n",
    "    # move the token to the new cell\n",
    "    result[new_row][new_col] = 2\n",
    "    result[row][col] = 0\n",
    "\n",
    "    # get the cells with the number\n",
    "    position_1 = get_square_number(row, col)\n",
    "    position_2 = get_square_new_number(new_row, new_col)\n",
    "    print(position_1, position_2)\n",
    "\n",
    "print(result)\n",
    "\n"
   ]
  }
 ],
 "metadata": {
  "kernelspec": {
   "display_name": "base",
   "language": "python",
   "name": "python3"
  },
  "language_info": {
   "codemirror_mode": {
    "name": "ipython",
    "version": 3
   },
   "file_extension": ".py",
   "mimetype": "text/x-python",
   "name": "python",
   "nbconvert_exporter": "python",
   "pygments_lexer": "ipython3",
   "version": "3.8.5"
  },
  "orig_nbformat": 4
 },
 "nbformat": 4,
 "nbformat_minor": 2
}
