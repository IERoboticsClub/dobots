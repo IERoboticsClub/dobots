{
 "cells": [
  {
   "cell_type": "code",
   "execution_count": 4,
   "metadata": {},
   "outputs": [
    {
     "name": "stdout",
     "output_type": "stream",
     "text": [
      "Connect status: DobotConnect_NoError\n"
     ]
    }
   ],
   "source": [
    "import threading\n",
    "import DobotDllType as dType\n",
    "\n",
    "# Define connection status messages\n",
    "CON_STR = {\n",
    "    dType.DobotConnect.DobotConnect_NoError: \"DobotConnect_NoError\",\n",
    "    dType.DobotConnect.DobotConnect_NotFound: \"DobotConnect_NotFound\",\n",
    "    dType.DobotConnect.DobotConnect_Occupied: \"DobotConnect_Occupied\",\n",
    "}\n",
    "\n",
    "# Load Dll\n",
    "api = dType.load()\n",
    "\n",
    "# Connect Dobot\n",
    "state = dType.ConnectDobot(api, \"\", 115200)[0]\n",
    "print(\"Connect status:\", CON_STR[state])\n",
    "\n",
    "\n",
    "if state == dType.DobotConnect.DobotConnect_NoError:\n",
    "\n",
    "    # Clean Command Queued\n",
    "    dType.SetQueuedCmdClear(api)\n",
    "\n",
    "    # Async Motion Params Setting\n",
    "    dType.SetHOMEParams(api, 200, 200, 200, 200, isQueued=1)\n",
    "    dType.SetPTPJointParams(api, 200, 200, 200, 200, 200, 200, 200, 200, isQueued=1)\n",
    "    dType.SetPTPCommonParams(api, 100, 100, isQueued=1)\n",
    "\n",
    "    # Async Home\n",
    "    dType.SetHOMECmd(api, temp=0, isQueued=1)\n",
    "    dType.SetQueuedCmdStartExec(api)\n",
    "    \n",
    "# Disconnect Dobot\n",
    "dType.DisconnectDobot(api)\n"
   ]
  },
  {
   "cell_type": "code",
   "execution_count": 20,
   "metadata": {},
   "outputs": [
    {
     "name": "stdout",
     "output_type": "stream",
     "text": [
      "Connect status: DobotConnect_NoError\n"
     ]
    }
   ],
   "source": [
    "import threading\n",
    "import DobotDllType as dType\n",
    "\n",
    "# Define connection status messages\n",
    "CON_STR = {\n",
    "    dType.DobotConnect.DobotConnect_NoError: \"DobotConnect_NoError\",\n",
    "    dType.DobotConnect.DobotConnect_NotFound: \"DobotConnect_NotFound\",\n",
    "    dType.DobotConnect.DobotConnect_Occupied: \"DobotConnect_Occupied\",\n",
    "}\n",
    "\n",
    "# Load Dll\n",
    "api = dType.load()\n",
    "\n",
    "# Connect Dobot\n",
    "state = dType.ConnectDobot(api, \"\", 115200)[0]\n",
    "print(\"Connect status:\", CON_STR[state])\n",
    "\n",
    "\n",
    "if state == dType.DobotConnect.DobotConnect_NoError:\n",
    "\n",
    "    dType.SetQueuedCmdClear(api)\n",
    "    dType.SetPTPCmd(api, dType.PTPMode.PTPMOVJXYZMode, 41.88152313232422, -250.90823364257812, 116.12028503417969, 0, isQueued=0)\n",
    "    \"\"\"dType.dSleep(1)\n",
    "    dType.SetEndEffectorSuctionCup(api, 1, 1)\n",
    "    dType.dSleep(1)\n",
    "    dType.SetPTPCmd(api, dType.PTPMode.PTPMOVJXYZMode, 246.46083068847656, -59.17017364501953, 15.468086242675781, 0, isQueued=1)\n",
    "    dType.dSleep(1)\n",
    "    dType.SetPTPCmd(api, dType.PTPMode.PTPMOVJXYZMode, 260.04681396484375, -113.10350036621094, -40.921939849853516, 0, isQueued=1)\n",
    "    dType.dSleep(1)\n",
    "    dType.SetEndEffectorSuctionCup(api, 0, 1)\n",
    "    dType.SetQueuedCmdStartExec(api)\"\"\"\n",
    "\n",
    "    \n",
    "# Disconnect Dobot\n",
    "dType.DisconnectDobot(api)\n"
   ]
  },
  {
   "cell_type": "code",
   "execution_count": 18,
   "metadata": {},
   "outputs": [
    {
     "name": "stdout",
     "output_type": "stream",
     "text": [
      "Connect status: DobotConnect_NoError\n",
      "Current position: [245.34996032714844, -138.14825439453125, -59.688011169433594, -29.382387161254883, -29.382387161254883, 67.84567260742188, 48.795188903808594, 0.0]\n"
     ]
    }
   ],
   "source": [
    "import threading\n",
    "import DobotDllType as dType\n",
    "\n",
    "# Define connection status messages\n",
    "CON_STR = {\n",
    "    dType.DobotConnect.DobotConnect_NoError: \"DobotConnect_NoError\",\n",
    "    dType.DobotConnect.DobotConnect_NotFound: \"DobotConnect_NotFound\",\n",
    "    dType.DobotConnect.DobotConnect_Occupied: \"DobotConnect_Occupied\",\n",
    "}\n",
    "\n",
    "# Load Dll\n",
    "api = dType.load()\n",
    "\n",
    "# Connect Dobot\n",
    "state = dType.ConnectDobot(api, \"\", 115200)[0]\n",
    "print(\"Connect status:\", CON_STR[state])\n",
    "\n",
    "\n",
    "if state == dType.DobotConnect.DobotConnect_NoError:\n",
    "    # Get current position\n",
    "    pose = dType.GetPose(api)\n",
    "    print(\"Current position:\", pose)\n",
    "\n",
    "# Disconnect Dobot\n",
    "dType.DisconnectDobot(api)"
   ]
  },
  {
   "cell_type": "code",
   "execution_count": null,
   "metadata": {},
   "outputs": [],
   "source": [
    "celda_1 = [305.8970031738281, 63.05331802368164, -57.39948654174805, 0]\n",
    "celda_2 = [306.6937561035156, 4.534292221069336, -58.795387268066406, 0]\n",
    "celda_3 = [307.52264404296875, -53.817909240722656, -58.33562469482422, 0]\n",
    "celda_4 = [249.85263061523438, 60.961700439453125, -58.66413116455078, 0]\n",
    "celda_5 = [249.2190704345703, 3.339076280593872, -59.638824462890625, 0]\n",
    "celda_6 = [249.5429229736328, -56.50636291503906, -60.098388671875, 0]\n",
    "celda_7 = [187.45509338378906, 61.00348663330078, -60.25056457519531, 0]\n",
    "celda_8 = [188.26858520507812, 0.08686444908380508, -60.99701690673828, 0]\n",
    "celda_9 = [190.3065643310547, -56.14841842651367, -60.94983673095703, 0]\n",
    "\n",
    "# Coordendas de los tokens al iniciar el juego\n",
    "token_1 = [181.1938934326172, -138.1505889892578, -61.030426025390625, 0]\n",
    "token_2 = [212.1025390625, -137.92701721191406, -60.08441925048828, 0]\n",
    "token_3 = [245.34996032714844, -138.14825439453125, -59.688011169433594, 0]\n",
    "\n",
    "# Coordenadas de home y middle\n",
    "\n",
    "home = [210.09783935546875, -3.7860727310180664, 116.83699035644531, 0]\n",
    "middle = [41.88152313232422, -250.90823364257812, 116.12028503417969, 0]"
   ]
  },
  {
   "cell_type": "code",
   "execution_count": 5,
   "metadata": {},
   "outputs": [
    {
     "name": "stdout",
     "output_type": "stream",
     "text": [
      "Connect status: DobotConnect_NoError\n"
     ]
    }
   ],
   "source": [
    "import threading\n",
    "import DobotDllType as dType\n",
    "\n",
    "# Define connection status messages\n",
    "CON_STR = {\n",
    "    dType.DobotConnect.DobotConnect_NoError: \"DobotConnect_NoError\",\n",
    "    dType.DobotConnect.DobotConnect_NotFound: \"DobotConnect_NotFound\",\n",
    "    dType.DobotConnect.DobotConnect_Occupied: \"DobotConnect_Occupied\",\n",
    "}\n",
    "\n",
    "# Load Dll\n",
    "api = dType.load()\n",
    "\n",
    "# Connect Dobot\n",
    "state = dType.ConnectDobot(api, \"\", 115200)[0]\n",
    "print(\"Connect status:\", CON_STR[state])\n",
    "\n",
    "dType.SetQueuedCmdClear(api)\n",
    "\n",
    "token_count = 0\n",
    "position = 1\n",
    "\n",
    "if state == dType.DobotConnect.DobotConnect_NoError: \n",
    "\n",
    "    dType.SetQueuedCmdStartExec(api)\n",
    "    if token_count == 0:\n",
    "        dType.SetPTPCmd(api, dType.PTPMode.PTPMOVJXYZMode, 305.8970031738281, 63.05331802368164, -57.39948654174805, 0, isQueued=1)\n",
    "    \n",
    "    dType.dSleep(2)\n",
    "    \n",
    "    if position == 1:\n",
    "        dType.SetPTPCmd(api, dType.PTPMode.PTPMOVJXYZMode, 307.52264404296875, -53.817909240722656, -58.33562469482422, 0, isQueued=1)\n",
    "    \n",
    "    \n",
    "\n",
    "dType.DisconnectDobot(api)"
   ]
  }
 ],
 "metadata": {
  "kernelspec": {
   "display_name": "base",
   "language": "python",
   "name": "python3"
  },
  "language_info": {
   "codemirror_mode": {
    "name": "ipython",
    "version": 3
   },
   "file_extension": ".py",
   "mimetype": "text/x-python",
   "name": "python",
   "nbconvert_exporter": "python",
   "pygments_lexer": "ipython3",
   "version": "3.8.5"
  },
  "orig_nbformat": 4
 },
 "nbformat": 4,
 "nbformat_minor": 2
}
