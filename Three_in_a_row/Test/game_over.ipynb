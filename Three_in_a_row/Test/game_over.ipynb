{
 "cells": [
  {
   "cell_type": "code",
   "execution_count": 8,
   "metadata": {},
   "outputs": [
    {
     "data": {
      "text/plain": [
       "True"
      ]
     },
     "execution_count": 8,
     "metadata": {},
     "output_type": "execute_result"
    }
   ],
   "source": [
    "def check_win(board):\n",
    "    # Check rows\n",
    "    for row in board:\n",
    "        if len(set(row)) == 1 and row[0] != 0:\n",
    "            return True\n",
    "\n",
    "    # Check columns\n",
    "    for col in range(3):\n",
    "        if len(set([board[row][col] for row in range(3)])) == 1 and board[0][col] != 0:\n",
    "            return True\n",
    "\n",
    "    # Check diagonals\n",
    "    if len(set([board[i][i] for i in range(3)])) == 1 and board[0][0] != 0:\n",
    "        return True\n",
    "    \n",
    "    if len(set([board[i][2-i] for i in range(3)])) == 1 and board[0][2] != 0:\n",
    "        return True\n",
    "\n",
    "    return False\n",
    "\n",
    "board = [[0, 0, 1], [0, 1, 0], [1, 0, 0]]\n",
    "\n",
    "check_win(board)"
   ]
  }
 ],
 "metadata": {
  "kernelspec": {
   "display_name": "base",
   "language": "python",
   "name": "python3"
  },
  "language_info": {
   "codemirror_mode": {
    "name": "ipython",
    "version": 3
   },
   "file_extension": ".py",
   "mimetype": "text/x-python",
   "name": "python",
   "nbconvert_exporter": "python",
   "pygments_lexer": "ipython3",
   "version": "3.8.5"
  },
  "orig_nbformat": 4
 },
 "nbformat": 4,
 "nbformat_minor": 2
}
