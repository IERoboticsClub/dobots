{
 "cells": [
  {
   "cell_type": "code",
   "execution_count": 6,
   "metadata": {},
   "outputs": [
    {
     "name": "stdout",
     "output_type": "stream",
     "text": [
      "[[[ 17 122 149]]]\n"
     ]
    },
    {
     "ename": "",
     "evalue": "",
     "output_type": "error",
     "traceback": [
      "\u001b[1;31mEl Kernel se bloqueó al ejecutar código en la celda actual o en una celda anterior. Revise el código de las celdas para identificar una posible causa del error. Haga clic <a href='https://aka.ms/vscodeJupyterKernelCrash'>aquí</a> para obtener más información. Vea el [registro] de Jupyter (command:jupyter.viewOutput) para obtener más detalles."
     ]
    }
   ],
   "source": [
    "# Code to get the HSV value (color) from a the point where you \"click\" in an image (use to get the colors of the tokens)\n",
    "import cv2\n",
    "import numpy as np\n",
    "\n",
    "# Define a list to store the selected points\n",
    "points = []\n",
    "\n",
    "# Define the mouse callback function\n",
    "def mouse_callback(event, x, y, flags, param):\n",
    "    if event == cv2.EVENT_LBUTTONDOWN:\n",
    "        points.append((x, y))\n",
    "        if len(points) == 1:\n",
    "            cv2.destroyWindow('frame')\n",
    "\n",
    "# Load the image\n",
    "img = cv2.imread('foto.jpg')\n",
    "\n",
    "# Display the image in a window\n",
    "cv2.imshow('frame', img)\n",
    "\n",
    "# Set the mouse callback function on the window\n",
    "cv2.setMouseCallback('frame', mouse_callback)\n",
    "\n",
    "# Wait for a mouse click\n",
    "while True:\n",
    "    if cv2.waitKey(1) & 0xFF == ord('q'):\n",
    "        break\n",
    "    if len(points) == 1:\n",
    "        break\n",
    "\n",
    "# Get the coordinates of the selected point\n",
    "src_point = np.float32(points[0])\n",
    "\n",
    "# Get the HSV value of the pixel at the selected point\n",
    "pixel_color = cv2.cvtColor(np.uint8([[img[int(src_point[1]), int(src_point[0])]]]), cv2.COLOR_BGR2HSV)\n",
    "\n",
    "# Print the HSV value\n",
    "print(pixel_color)\n",
    "\n",
    "# Release all windows\n",
    "cv2.destroyAllWindows()\n",
    "\n"
   ]
  },
  {
   "attachments": {},
   "cell_type": "markdown",
   "metadata": {},
   "source": [
    "black [[[98 28 37]]] / [[[116  56  32]]] / [[[105  13  39]]]\n",
    "\n",
    "brown [[[ 16 127 149]]] / [[[ 22  43 177]]] / [[[ 17 122 149]]]"
   ]
  }
 ],
 "metadata": {
  "kernelspec": {
   "display_name": "base",
   "language": "python",
   "name": "python3"
  },
  "language_info": {
   "codemirror_mode": {
    "name": "ipython",
    "version": 3
   },
   "file_extension": ".py",
   "mimetype": "text/x-python",
   "name": "python",
   "nbconvert_exporter": "python",
   "pygments_lexer": "ipython3",
   "version": "3.8.5"
  },
  "orig_nbformat": 4
 },
 "nbformat": 4,
 "nbformat_minor": 2
}
