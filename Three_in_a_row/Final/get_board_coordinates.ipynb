{
 "cells": [
  {
   "cell_type": "code",
   "execution_count": 5,
   "metadata": {},
   "outputs": [],
   "source": [
    "import cv2\n",
    "import numpy as np\n",
    "\n",
    "# Define a list to store the selected points\n",
    "points = []\n",
    "\n",
    "# Define the mouse callback function\n",
    "def mouse_callback(event, x, y, flags, param):\n",
    "    if event == cv2.EVENT_LBUTTONDOWN:\n",
    "        points.append((x, y))\n",
    "        if len(points) == 4:\n",
    "            cv2.destroyWindow('frame')\n",
    "\n",
    "# Open a video capture object\n",
    "cap = cv2.VideoCapture(0)\n",
    "\n",
    "while True:\n",
    "    # Capture a frame from the video stream\n",
    "    ret, frame = cap.read()\n",
    "\n",
    "    # Display the frame in a window\n",
    "    cv2.imshow('frame', frame)\n",
    "\n",
    "    # Set the mouse callback function on the window\n",
    "    cv2.setMouseCallback('frame', mouse_callback)\n",
    "\n",
    "    # Exit the loop if four points have been selected\n",
    "    if len(points) == 4:\n",
    "        break\n",
    "\n",
    "    # Exit the loop if the user presses the 'q' key\n",
    "    if cv2.waitKey(1) & 0xFF == ord('q'):\n",
    "        break\n",
    "\n",
    "# Define the source points as a numpy array\n",
    "src_points = np.float32(points)\n",
    "\n",
    "# Define the destination points as a numpy array\n",
    "dst_points = np.float32([[0, 0], [300, 0], [0, 300], [300, 300]])\n",
    "\n",
    "# Release the capture object and close all windows\n",
    "cap.release()\n",
    "cv2.destroyAllWindows()\n"
   ]
  },
  {
   "cell_type": "code",
   "execution_count": 6,
   "metadata": {},
   "outputs": [
    {
     "name": "stdout",
     "output_type": "stream",
     "text": [
      "[(1009, 473), (1550, 477), (947, 1035), (1615, 1035)]\n",
      "[[1009, 473], [1550, 477], [947, 1035], [1615, 1035]]\n"
     ]
    },
    {
     "ename": "",
     "evalue": "",
     "output_type": "error",
     "traceback": [
      "\u001b[1;31mEl Kernel se bloqueó al ejecutar código en la celda actual o en una celda anterior. Revise el código de las celdas para identificar una posible causa del error. Haga clic <a href='https://aka.ms/vscodeJupyterKernelCrash'>aquí</a> para obtener más información. Vea el [registro] de Jupyter (command:jupyter.viewOutput) para obtener más detalles."
     ]
    }
   ],
   "source": [
    "# To transform the format in which the code before gives the coordinates\n",
    "print(points)\n",
    "\n",
    "output_listas = [list(tupla) for tupla in points]\n",
    "print(output_listas)"
   ]
  }
 ],
 "metadata": {
  "kernelspec": {
   "display_name": "base",
   "language": "python",
   "name": "python3"
  },
  "language_info": {
   "codemirror_mode": {
    "name": "ipython",
    "version": 3
   },
   "file_extension": ".py",
   "mimetype": "text/x-python",
   "name": "python",
   "nbconvert_exporter": "python",
   "pygments_lexer": "ipython3",
   "version": "3.8.5"
  },
  "orig_nbformat": 4
 },
 "nbformat": 4,
 "nbformat_minor": 2
}
